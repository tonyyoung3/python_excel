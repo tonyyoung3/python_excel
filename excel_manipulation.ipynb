{
  "nbformat": 4,
  "nbformat_minor": 0,
  "metadata": {
    "colab": {
      "name": "excel_manipulation.ipynb",
      "provenance": [],
      "authorship_tag": "ABX9TyMt+wHllB/8UtgXVD9M14O3",
      "include_colab_link": true
    },
    "kernelspec": {
      "name": "python3",
      "display_name": "Python 3"
    },
    "language_info": {
      "name": "python"
    }
  },
  "cells": [
    {
      "cell_type": "markdown",
      "metadata": {
        "id": "view-in-github",
        "colab_type": "text"
      },
      "source": [
        "<a href=\"https://colab.research.google.com/github/tonyyoung3/python_excel/blob/main/excel_manipulation.ipynb\" target=\"_parent\"><img src=\"https://colab.research.google.com/assets/colab-badge.svg\" alt=\"Open In Colab\"/></a>"
      ]
    },
    {
      "cell_type": "code",
      "metadata": {
        "id": "YKBQUpElyDqM"
      },
      "source": [
        "import xlrd\n",
        "import xlwt\n",
        "new_workbook=xlwt.Workbook()\n",
        "sheet1=new_workbook.add_sheet('result',cell_overwrite_ok=True)"
      ],
      "execution_count": null,
      "outputs": []
    },
    {
      "cell_type": "code",
      "metadata": {
        "id": "1XOIotuFyG4A"
      },
      "source": [
        "data = xlrd.open_workbook('new.xlsx')\n",
        "table = data.sheets()[0]"
      ],
      "execution_count": null,
      "outputs": []
    },
    {
      "cell_type": "code",
      "metadata": {
        "id": "KNbG8Ya7yU_J"
      },
      "source": [
        "#part1 - clean data and save in new excel file\n",
        "#confog - filter , columns not needed etc\n",
        "\n",
        "region = ['abc','aaa','bbb']\n",
        "site = ['AAH','SHA','SJC','TPE']\n",
        "delete =  [23,24,25,26,27,30,32,33,34,40,41,42,43]\n"
      ],
      "execution_count": null,
      "outputs": []
    },
    {
      "cell_type": "code",
      "metadata": {
        "id": "rwIMha_Syg33"
      },
      "source": [
        "row = 0\n",
        "\n",
        "#mimic filter in excel and exclude columns we don't need\n",
        "for i in range(table.nrows):\n",
        "  col = 0\n",
        "  if table.cell_value(i,0) != 'TRIGGERS':\n",
        "    if table.cell_value(i,13) != 'DELIVERED':\n",
        "      if ((table.cell_value(i,10) in region and table.cell_value(i,12) in site )) == False:\n",
        "        for j in range(len(table.row_values(i))):\n",
        "          if j not in delete: \n",
        "            sheet1.write(row,col,table.cell_value(i,j))\n",
        "            col+=1\n",
        "        row +=1\n",
        "\n",
        "\n",
        "\n",
        "new_workbook.save('clean.xls')"
      ],
      "execution_count": null,
      "outputs": []
    },
    {
      "cell_type": "code",
      "metadata": {
        "id": "cJzQmdqLzMvM"
      },
      "source": [
        "#part2 - compare 2 excel files (vlookup)\n",
        "\n",
        "final_workbook=xlwt.Workbook()\n",
        "sheet1=final_workbook.add_sheet('result',cell_overwrite_ok=True)"
      ],
      "execution_count": null,
      "outputs": []
    },
    {
      "cell_type": "code",
      "metadata": {
        "id": "6VssCDeNzNtD"
      },
      "source": [
        "data = xlrd.open_workbook('clean.xls')\n",
        "data_main = xlrd.open_workbook('main.xlsx')\n",
        "table = data.sheets()[0]\n",
        "table_main = data_main.sheets()[0]\n",
        "      "
      ],
      "execution_count": null,
      "outputs": []
    },
    {
      "cell_type": "code",
      "metadata": {
        "id": "FUqAFfI1zTol"
      },
      "source": [
        "for i in range(table.nrows): #use loop to perpform vlookup()\n",
        "  check = 0\n",
        "  for j in range(table_main.nrows):\n",
        "    if table.cell_value(i,3) == table_main.cell_value(j,3): # assume column D is the field we want to map\n",
        "      print(table_main.cell_value(j,1))\n",
        "      sheet1.write(i,0,'Old order') # store new and old order in first column\n",
        "      sheet1.write(i,2,table_main.cell_value(j,9))\n",
        "      sheet1.write(i,3,table_main.cell_value(j,16))\n",
        "      check = 1\n",
        "      break\n",
        "  if check == 0 :\n",
        "    sheet1.write(i,0,'New IPO')\n",
        "\n",
        "  for z in range(len(table.row_values(i))): #copy existing value to new excel, starting with column E\n",
        "    sheet1.write(i,z+4,table.cell_value(i,z))\n",
        "\n"
      ],
      "execution_count": null,
      "outputs": []
    }
  ]
}